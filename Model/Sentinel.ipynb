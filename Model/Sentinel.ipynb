version https://git-lfs.github.com/spec/v1
oid sha256:41a7c3d2997702321439b97ab5aca1cd3f4afd12bd95cf3a8f69d4060c3e30ec
size 187344
